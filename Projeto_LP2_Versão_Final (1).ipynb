{
  "nbformat": 4,
  "nbformat_minor": 0,
  "metadata": {
    "colab": {
      "provenance": []
    },
    "kernelspec": {
      "name": "python3",
      "display_name": "Python 3"
    },
    "language_info": {
      "name": "python"
    }
  },
  "cells": [
    {
      "cell_type": "markdown",
      "source": [
        "# Projeto em Python: **Sistema de Cadastro de usuários**"
      ],
      "metadata": {
        "id": "9v6gDAfXHvtj"
      }
    },
    {
      "cell_type": "markdown",
      "source": [
        "## **BIBLIOTECAS UTILIZADAS**\n",
        "\n",
        "\n",
        "1.  **JSON**\n",
        "\n",
        "  Suporte para serialização e desserialização de arquivos no formato de dados JSON (JavaScript Object Notation).\n",
        "  \n",
        "  **Conceito:**\n",
        "\n",
        "  \"JavaScript Object Notation (JSON) é um formato baseado em texto padrão para representar dados estruturados com base na sintaxe do objeto JavaScript. É comumente usado para transmitir dados em aplicativos da Web (por exemplo, enviar alguns dados do servidor para o cliente, para que possam ser exibidos em uma página da Web ou vice-versa).\"\n",
        "\n",
        "  **Documentação de referência:**\n",
        "\n",
        "  https://docs.python.org/pt-br/3/library/json.html?highlight=import%20json\n",
        "\n",
        "  https://developer.mozilla.org/pt-BR/docs/Learn/JavaScript/Objects/JSON\n",
        "\n",
        "\n",
        "\n",
        "  \n",
        "2.  **CSV**\n",
        "\n",
        "  Utilizada para trabalhar com arquivos no formato tabular, por meio de linhas e colunas. A padronização da representação de dados CSV ( Comma-Separated Values) foi publicada na RFC 4180 em 2005 pela ISOC (Internet Society) através da IETF (Internet Engineering Task Force), organização responsável pelo estabelecimento de padrões de protocolos da internet e tecnologias envolvidas.\n",
        "\n",
        "  **Documentação de referência:**\n",
        "\n",
        "  https://datatracker.ietf.org/doc/html/rfc4180\n",
        "\n",
        "  https://docs.python.org/pt-br/3/library/csv.html?highlight=import%\n",
        "\n",
        "3.  **from random import randint**\n",
        "\n",
        "  Permite utilizar a função ranint() por meio do módulo random que implementa geradores de numeros pseudoaleatórios\n",
        "\n",
        "  **Documentação de referência:**\n",
        "\n",
        "  https://docs.python.org/3/library/random.html#random.random\n",
        "\n",
        "4. **google.colab import drive**\n",
        "\n",
        "  Permite montar o Google Drive em ambiente de execução.\n",
        "\n",
        "  **Documentação de referência:**\n",
        "\n",
        "  https://colab.research.google.com/notebooks/io.ipynb\n"
      ],
      "metadata": {
        "id": "vm54FtSFH_Cs"
      }
    },
    {
      "cell_type": "code",
      "execution_count": 1,
      "metadata": {
        "id": "e8ugqwbYN0PR"
      },
      "outputs": [],
      "source": [
        "import json\n",
        "import csv\n",
        "from random import randint\n",
        "from google.colab import drive"
      ]
    },
    {
      "cell_type": "code",
      "source": [
        "drive.mount('/content/drive')"
      ],
      "metadata": {
        "colab": {
          "base_uri": "https://localhost:8080/"
        },
        "id": "inwVYabdw6TA",
        "outputId": "1a2219e1-75db-4379-a97b-360e8f5aec48"
      },
      "execution_count": 2,
      "outputs": [
        {
          "output_type": "stream",
          "name": "stdout",
          "text": [
            "Mounted at /content/drive\n"
          ]
        }
      ]
    },
    {
      "cell_type": "markdown",
      "source": [
        "## **FUNCIONALIDADES**\n",
        "### lerSalvarArquivo\n"
      ],
      "metadata": {
        "id": "33kw7QkeNRIC"
      }
    },
    {
      "cell_type": "code",
      "source": [
        "def lerSalvarArquivo(nomeArquivo=None, ler=True, planilha=None):\n",
        "\n",
        "    if ler:\n",
        "\n",
        "        nomeArquivo = input(\"\\nDigite o caminho do arquivo JSON no Google Drive (ex: /content/drive/MyDrive/exemplo.json): \")\n",
        "\n",
        "        try:\n",
        "            f = open(nomeArquivo, 'r')\n",
        "            planilha = json.load(f)\n",
        "            f.close()\n",
        "\n",
        "        except FileNotFoundError:\n",
        "            print(f'✕ Arquivo {nomeArquivo} não encontrado.', end='\\n\\n')\n",
        "\n",
        "        except json.JSONDecodeError:\n",
        "            print(f'✕ Erro ao decodificar o arquivo {nomeArquivo}.', end='\\n\\n')\n",
        "\n",
        "        finally:\n",
        "            return nomeArquivo, planilha\n",
        "\n",
        "    else:\n",
        "        with open(nomeArquivo, 'w') as outfile:\n",
        "            json.dump(planilha, outfile, indent = 4, ensure_ascii = False)"
      ],
      "metadata": {
        "id": "1bz_tshvuhtE"
      },
      "execution_count": 3,
      "outputs": []
    },
    {
      "cell_type": "markdown",
      "source": [
        "## insertNome"
      ],
      "metadata": {
        "id": "tyN24BvKNdwp"
      }
    },
    {
      "cell_type": "code",
      "source": [
        "def insertNome(mensagem):\n",
        "\n",
        "    while True:\n",
        "\n",
        "        nome = input(mensagem)\n",
        "\n",
        "        if not nome.replace(' ', '').isalpha() or not nome:\n",
        "            print('✕ Nome inválido. Tente novamente.')\n",
        "\n",
        "        else:\n",
        "            return nome"
      ],
      "metadata": {
        "id": "DPR9ct-lPke9"
      },
      "execution_count": 4,
      "outputs": []
    },
    {
      "cell_type": "markdown",
      "source": [
        "## insertTelefone"
      ],
      "metadata": {
        "id": "usTpvgouNgy3"
      }
    },
    {
      "cell_type": "code",
      "source": [
        "def insertTelefone(mensagem):\n",
        "\n",
        "    while True:\n",
        "\n",
        "        telefone = input(mensagem)\n",
        "\n",
        "        if telefone.isnumeric() or not telefone:\n",
        "            return telefone\n",
        "\n",
        "        else:\n",
        "            print('✕ Telefone inválido. Tente novamente.')"
      ],
      "metadata": {
        "id": "Vcqju9hpQ2ze"
      },
      "execution_count": 5,
      "outputs": []
    },
    {
      "cell_type": "markdown",
      "source": [
        "## insertSenha"
      ],
      "metadata": {
        "id": "aTbehlZJNjsB"
      }
    },
    {
      "cell_type": "code",
      "source": [
        "def insertSenha(mensagem):\n",
        "\n",
        "    while True:\n",
        "        print('>> A senha deve conter o mínimo de 8 caracteres (mínimo de 2 números e 1 letra maiúscula).')\n",
        "\n",
        "        senha = input(mensagem)\n",
        "\n",
        "        countNum, countM = 0, 0\n",
        "        for char in senha:\n",
        "            if char.isupper(): countM += 1\n",
        "            elif char.isnumeric(): countNum += 1\n",
        "\n",
        "        if countNum < 2 or countM < 1 or len(senha) < 8:\n",
        "            print('✕ Senha fraca. Tente novamente.')\n",
        "        else:\n",
        "            return senha"
      ],
      "metadata": {
        "id": "xNw3dmtbs49q"
      },
      "execution_count": 6,
      "outputs": []
    },
    {
      "cell_type": "markdown",
      "source": [
        "## gerarId"
      ],
      "metadata": {
        "id": "Z5iGt_jrNmN_"
      }
    },
    {
      "cell_type": "code",
      "source": [
        "def gerarId(nome):\n",
        "\n",
        "    produto = 1\n",
        "    for letra in nome:\n",
        "        produto *= ord(letra)\n",
        "\n",
        "    id = str(produto % 10000)\n",
        "\n",
        "    return id"
      ],
      "metadata": {
        "id": "LA2Ll8cv4PlH"
      },
      "execution_count": 7,
      "outputs": []
    },
    {
      "cell_type": "markdown",
      "source": [
        "## gerarSenha"
      ],
      "metadata": {
        "id": "-x305c6dNo04"
      }
    },
    {
      "cell_type": "code",
      "source": [
        "def gerarSenha():\n",
        "\n",
        "    senha = ''.join([chr(randint(33,127)) for i in range(8)])\n",
        "\n",
        "    return senha"
      ],
      "metadata": {
        "id": "Qn-blyA21tZm"
      },
      "execution_count": 8,
      "outputs": []
    },
    {
      "cell_type": "markdown",
      "source": [
        "## addUsuarioUnico"
      ],
      "metadata": {
        "id": "jN9v43PpNreY"
      }
    },
    {
      "cell_type": "code",
      "source": [
        "def addUsuarioUnico(nome, telefone, endereco, senha, planilha):\n",
        "\n",
        "    if not nome:\n",
        "        print('✕ Nome inválido. Não é possível adicionar usuário.')\n",
        "        return None\n",
        "\n",
        "    id = gerarId(nome)\n",
        "\n",
        "    if not telefone: telefone = 'Não informado'\n",
        "\n",
        "    if not endereco: endereco = 'Não informado'\n",
        "\n",
        "    if not senha: senha = gerarSenha()\n",
        "\n",
        "    while True:\n",
        "\n",
        "        if planilha.get(id):\n",
        "            if planilha[id]['Status'] == False and planilha[id]['Telefone'] == telefone and planilha[id]['Endereço'] == endereco:\n",
        "                planilha[id]['Status'] = True\n",
        "                planilha[id]['Senha'] = senha\n",
        "                print('✓ A conta do usuário foi reativada.')\n",
        "                break\n",
        "            id = str(int(id) + 1)\n",
        "\n",
        "        else:\n",
        "            planilha[id] = dict(Status = True, Nome = nome, Telefone = telefone, Endereço = endereco, Senha=senha)\n",
        "            break"
      ],
      "metadata": {
        "id": "QfHNdD-R2uzP"
      },
      "execution_count": 9,
      "outputs": []
    },
    {
      "cell_type": "markdown",
      "source": [
        "## addUsuarios"
      ],
      "metadata": {
        "id": "7g6T8wURNzy4"
      }
    },
    {
      "cell_type": "code",
      "source": [
        "def addUsuarios(qtd, planilha):\n",
        "\n",
        "    for i in range(1, qtd + 1):\n",
        "\n",
        "        nome = insertNome(f'\\nNome do {i}° usuário: ')\n",
        "        telefone = insertTelefone(f'Telefone do {i}° usuário: ')\n",
        "        endereco = input(f'Endereço do {i}° usuário: ')\n",
        "        senha = insertSenha(f'Senha do {i}° usuário: ')\n",
        "\n",
        "        addUsuarioUnico(nome, telefone, endereco, senha, planilha)\n",
        "\n",
        "        print(f'\\n✓ {i}° usuário adicionado com sucesso.')\n"
      ],
      "metadata": {
        "id": "vYyL8xHyTzJ4"
      },
      "execution_count": 10,
      "outputs": []
    },
    {
      "cell_type": "markdown",
      "source": [
        "## addUsuariosCSV"
      ],
      "metadata": {
        "id": "lm6FYHmLNxLZ"
      }
    },
    {
      "cell_type": "code",
      "source": [
        "def addUsuariosCSV(planilha):\n",
        "\n",
        "    nomeArquivo = input(\"\\nDigite o caminho do arquivo CSV no Google Drive (ex: /content/drive/MyDrive/exemplo.csv): \")\n",
        "\n",
        "    try:\n",
        "        with open(nomeArquivo, newline='') as csvfile:\n",
        "            leitor_csv = csv.DictReader(csvfile)\n",
        "\n",
        "            if not all(chave.capitalize() in leitor_csv.fieldnames for chave in ['Nome', 'Telefone', 'Endereço','Senha']):\n",
        "                print(\"✕ O arquivo CSV não possui os cabeçalhos corretos (Nome, Telefone, Endereço, Senha).\")\n",
        "                return\n",
        "\n",
        "            for linha in leitor_csv:\n",
        "                nome = linha.get('Nome')\n",
        "                telefone = linha.get('Telefone')\n",
        "                endereco = linha.get('Endereço')\n",
        "                senha = linha.get('Senha')\n",
        "                addUsuarioUnico(nome, telefone, endereco, senha, planilha)\n",
        "\n",
        "            print('\\n✓ Usuários adicionados com sucesso.', end='\\n\\n')\n",
        "\n",
        "    except FileNotFoundError:\n",
        "        print(\"✕ Arquivo não encontrado.\")\n",
        "    except csv.Error:\n",
        "        print(\"✕ Erro ao ler o arquivo CSV. Verifique se o arquivo está no formato correto.\")"
      ],
      "metadata": {
        "id": "pAE5rMacJ8fa"
      },
      "execution_count": 11,
      "outputs": []
    },
    {
      "cell_type": "markdown",
      "source": [
        "## checkUsuario"
      ],
      "metadata": {
        "id": "H_8jz7QUN3Bm"
      }
    },
    {
      "cell_type": "code",
      "source": [
        "def checkUsuario(id, planilha):\n",
        "\n",
        "    if not planilha.get(id):\n",
        "        return False\n",
        "\n",
        "    if planilha[id]['Status'] == False:\n",
        "        return False\n",
        "\n",
        "    return True"
      ],
      "metadata": {
        "id": "BXuB6DxEwnuX"
      },
      "execution_count": 12,
      "outputs": []
    },
    {
      "cell_type": "markdown",
      "source": [
        "##  checkSenha"
      ],
      "metadata": {
        "id": "x7lyKlQWN7Lf"
      }
    },
    {
      "cell_type": "code",
      "source": [
        "def checkSenha(id, planilha):\n",
        "\n",
        "    for i in range(3):\n",
        "\n",
        "        senha = input(f'\\nDigite a senha do usuário {id}: ')\n",
        "\n",
        "        if planilha[id]['Senha'] == senha:\n",
        "            return True\n",
        "\n",
        "        if i != 2:\n",
        "            print(f'\\n>> Você tem mais {2 - i} tentativas.')\n",
        "\n",
        "    print('\\n✕ Você esgotou as tentativas. Aguarde um pouco e tente mais tarde.', end='\\n\\n')\n",
        "\n",
        "    return False"
      ],
      "metadata": {
        "id": "72T3nQlO6HaU"
      },
      "execution_count": 13,
      "outputs": []
    },
    {
      "cell_type": "markdown",
      "source": [
        "## excluirUsuario"
      ],
      "metadata": {
        "id": "xSigVTMiN-Dc"
      }
    },
    {
      "cell_type": "code",
      "source": [
        "def excluirUsuario(id, planilha):\n",
        "\n",
        "    if checkSenha(id, planilha):\n",
        "\n",
        "        planilha[id]['Status'] = False\n",
        "\n",
        "        print(f'\\n✓ Usuário do ID {id} excluído com sucesso.', end='\\n\\n')\n",
        "\n",
        "    else:\n",
        "        print('✕ Erro na exclusão.', end='\\n\\n')"
      ],
      "metadata": {
        "id": "0q1ed0Rzsx8-"
      },
      "execution_count": 14,
      "outputs": []
    },
    {
      "cell_type": "markdown",
      "source": [
        "## editUsuario"
      ],
      "metadata": {
        "id": "CTU_E5HoOCSi"
      }
    },
    {
      "cell_type": "code",
      "source": [
        "def editUsuario(id, planilha):\n",
        "\n",
        "    print(f'\\nPara o ID {id}, qual informação deseja alterar?')\n",
        "    print('1 - Nome')\n",
        "    print('2 - Telefone')\n",
        "    print('3 - Endereço')\n",
        "    print('4 - Senha')\n",
        "    print('5 - Sair/Próximo ID')\n",
        "\n",
        "    if checkSenha(id, planilha):\n",
        "\n",
        "        while True:\n",
        "\n",
        "            userInput = input('\\nDigite a opção a ser alterada: ')\n",
        "\n",
        "            if userInput == '5':\n",
        "                print('\\n>> Você escolheu: 5 - Sair/Próximo ID', end='\\n\\n')\n",
        "                break\n",
        "\n",
        "            elif userInput == '1':\n",
        "                print('\\n>> Você escolheu: 1 - Nome', end='\\n\\n')\n",
        "\n",
        "                nome = insertNome('Digite o novo nome do usuário: ')\n",
        "\n",
        "                planilha[id]['Nome'] = nome\n",
        "\n",
        "                print('\\n✓ Nome atualizado com sucesso.')\n",
        "\n",
        "            elif userInput == '2':\n",
        "                print('\\n>> Você escolheu: 2 - Telefone', end='\\n\\n')\n",
        "\n",
        "                telefone = insertTelefone('Digite o novo telefone do usuário: ')\n",
        "\n",
        "                planilha[id]['Telefone'] = telefone\n",
        "\n",
        "                print('\\n✓ Telefone atualizado com sucesso.')\n",
        "\n",
        "            elif userInput == '3':\n",
        "                print('\\nVocê escolheu: 3 - Endereço', end='\\n\\n')\n",
        "\n",
        "                endereco = input('Digite o novo endereço do usuário: ')\n",
        "\n",
        "                planilha[id]['Endereço'] = endereco\n",
        "\n",
        "                print('\\n✓ Endereço atualizado com sucesso.')\n",
        "\n",
        "            elif userInput == '4':\n",
        "                print('\\nVocê escolheu: 4 - Senha', end='\\n\\n')\n",
        "\n",
        "                senha = insertSenha('Digite a nova senha do usuário: ')\n",
        "\n",
        "                planilha[id]['Senha'] = senha\n",
        "\n",
        "                print('\\n✓ Senha atualizada com sucesso.')\n",
        "\n",
        "            else:\n",
        "                print('✕ Esta opção não está disponível. Tente novamente.', end='\\n\\n')\n",
        "\n",
        "        print(f'✓ Usuário do ID {id} atualizado com sucesso.', end='\\n\\n')\n",
        "\n",
        "    else:\n",
        "        print('✕ Não foi possível alterar dados do usuário.', end='\\n\\n')"
      ],
      "metadata": {
        "id": "75StugxWv0hR"
      },
      "execution_count": 15,
      "outputs": []
    },
    {
      "cell_type": "markdown",
      "source": [
        "## recuperarSenha"
      ],
      "metadata": {
        "id": "tj6oFBKOOFf1"
      }
    },
    {
      "cell_type": "code",
      "source": [
        "def recuperarSenha(id, planilha):\n",
        "\n",
        "    print(f'\\n>> Para recuperar a senha do ID {id}, precisamos validar algumas informações.', end='\\n\\n')\n",
        "\n",
        "    for i in range(3):\n",
        "\n",
        "        nome = input('Nome do usuário: ')\n",
        "        telefone = input('Telefone do usuário: ')\n",
        "        endereco = input('Endereço do usuário: ')\n",
        "\n",
        "        if nome == planilha[id]['Nome'] and telefone == planilha[id]['Telefone'] and endereco == planilha[id]['Endereço']:\n",
        "            return f'>> Sua senha é: {planilha[id][\"Senha\"]}'\n",
        "\n",
        "        if i != 2:\n",
        "            print(f'✕ Informações erradas. Você tem mais {2 - i} tentativas.', end='\\n\\n')\n",
        "\n",
        "    return f'✕ Não foi possível recuperar senha.'"
      ],
      "metadata": {
        "id": "HF05ppJnTh5w"
      },
      "execution_count": 16,
      "outputs": []
    },
    {
      "cell_type": "markdown",
      "source": [
        "## viewUsuario"
      ],
      "metadata": {
        "id": "VNV8E40cOKVj"
      }
    },
    {
      "cell_type": "code",
      "source": [
        "def viewUsuario(id, planilha):\n",
        "\n",
        "    if checkSenha(id, planilha):\n",
        "\n",
        "        print(f'\\nID: {id}')\n",
        "\n",
        "        for key, value in planilha[id].items():\n",
        "            print(f'{key}: {value}')\n",
        "\n",
        "        print()\n",
        "\n",
        "    else:\n",
        "        print('✕ Não foi possível visualizar dados do usuário.', end='\\n\\n')"
      ],
      "metadata": {
        "id": "odeqPhzS35Yl"
      },
      "execution_count": 17,
      "outputs": []
    },
    {
      "cell_type": "markdown",
      "source": [
        "##  viewAllUsuarios"
      ],
      "metadata": {
        "id": "hSDRpcM3ONF6"
      }
    },
    {
      "cell_type": "code",
      "source": [
        "def viewAllUsuarios(planilha):\n",
        "\n",
        "    if checkSenha('9999', planilha):\n",
        "\n",
        "        for id in planilha:\n",
        "\n",
        "            if planilha[id]['Status'] == False:\n",
        "                continue\n",
        "\n",
        "            print(f'\\nID: {id}')\n",
        "\n",
        "            for key, value in planilha[id].items():\n",
        "                print(f'{key}: {value}')\n",
        "\n",
        "        print()\n",
        "\n",
        "    else:\n",
        "        print('✕ Não foi possível visualizar dados de todos os usuários.', end='\\n\\n')"
      ],
      "metadata": {
        "id": "6MWmqWZs8093"
      },
      "execution_count": 18,
      "outputs": []
    },
    {
      "cell_type": "markdown",
      "source": [
        "## exportCSV"
      ],
      "metadata": {
        "id": "CxCWBRP6OQa8"
      }
    },
    {
      "cell_type": "code",
      "source": [
        "def exportCSV(planilha):\n",
        "\n",
        "    try:\n",
        "        path = input('Informe o endereço do Drive em que deseja salvar o arquivo (ex: /content/drive/MyDrive): ')\n",
        "        nomeArquivo = '/' + input('Informe o nome do arquivo: ')+'.csv'\n",
        "\n",
        "        with open(path+nomeArquivo, 'w', newline = '') as f:\n",
        "            colunas = ['ID', 'Status', 'Nome', 'Telefone', 'Endereço', 'Senha']\n",
        "            writer = csv.DictWriter(f, fieldnames=colunas)\n",
        "\n",
        "            writer.writeheader()\n",
        "            for id in planilha:\n",
        "                if checkUsuario(id, planilha):\n",
        "                    linha = dict(ID=id)\n",
        "                    linha.update(planilha[id])\n",
        "                    writer.writerow(linha)\n",
        "\n",
        "        print('\\n✓ Arquivo exportado com sucesso para o Drive.', end='\\n\\n')\n",
        "\n",
        "    except Exception as e:\n",
        "        print(f'✕ Erro no export do arquivo: {e}.')"
      ],
      "metadata": {
        "id": "1X6mTpql6UXb"
      },
      "execution_count": 19,
      "outputs": []
    },
    {
      "cell_type": "markdown",
      "source": [
        "## menu inicial (main)"
      ],
      "metadata": {
        "id": "lv5Mm-Y8QTtZ"
      }
    },
    {
      "cell_type": "code",
      "source": [
        "def main():\n",
        "\n",
        "    print('-------------- Sistema de Cadastro de Pessoas --------------',end='\\n\\n')\n",
        "\n",
        "    nomeArquivo, cadastros = lerSalvarArquivo()\n",
        "\n",
        "    while True:\n",
        "\n",
        "        if not cadastros: break\n",
        "\n",
        "        print('Escolha uma das ações a seguir:\\n')\n",
        "        print('1 - Inserir usuário')\n",
        "        print('2 - Inserir usuários em Lote')\n",
        "        print('3 - Excluir usuário')\n",
        "        print('4 - Atualizar usuário')\n",
        "        print('5 - Recuperar senha de usuário')\n",
        "        print('6 - Informações de um usuário')\n",
        "        print('7 - Informações de todos os usuários')\n",
        "        print('8 - Exportar informações de usuários em CSV')\n",
        "        print('9 - Sair\\n')\n",
        "\n",
        "        userInput = input('Digite o número da ação: ')\n",
        "\n",
        "        if userInput == '9':\n",
        "            print('\\n>> Você escolheu: 9 - Sair')\n",
        "            print('>> Até a próxima.')\n",
        "            break\n",
        "\n",
        "        elif userInput == '1':\n",
        "            print('\\n>> Você escolheu: 1 - Inserir usuário', end='\\n\\n')\n",
        "\n",
        "            nome = insertNome('Nome do usuário: ')\n",
        "            telefone = insertTelefone('Telefone do usuário: ')\n",
        "            endereco = input('Endereço do usuário: ')\n",
        "            senha = insertSenha('Senha do usuário: ')\n",
        "\n",
        "            addUsuarioUnico(nome, telefone, endereco, senha, planilha=cadastros)\n",
        "\n",
        "            print('\\n✓ Usuário adicionado com sucesso.', end='\\n\\n')\n",
        "\n",
        "        elif userInput == '2':\n",
        "            print('\\n>> Você escolheu: 2 - Inserir usuários em Lote', end='\\n\\n')\n",
        "\n",
        "            while True:\n",
        "                userInput = input('>> Deseja inserir por quantidade limitada (digite 1) ou arquivo CSV (digite 2)? ')\n",
        "\n",
        "                if userInput == '1':\n",
        "\n",
        "                    qtd = int(input('Quantidade de usuários que deseja inserir: '))\n",
        "\n",
        "                    addUsuarios(qtd, planilha=cadastros)\n",
        "\n",
        "                    print(f'\\n✓ {qtd} usuários adicionados com sucesso.', end='\\n\\n')\n",
        "\n",
        "                    break\n",
        "\n",
        "                if userInput == '2':\n",
        "\n",
        "                    addUsuariosCSV(planilha=cadastros)\n",
        "\n",
        "                    break\n",
        "\n",
        "                else:\n",
        "                    print('✕ Opção inválida. Tente novamente.')\n",
        "\n",
        "        elif userInput == '3':\n",
        "            print('\\n>> Você escolheu: 3 - Excluir usuário', end='\\n\\n')\n",
        "\n",
        "            while True:\n",
        "\n",
        "                userInput = tuple(input('ID do usuário a ser excluído (se for mais de um, separe por espaço): ').split())\n",
        "\n",
        "                token = True\n",
        "                for id in userInput:\n",
        "                    if not checkUsuario(id, planilha=cadastros):\n",
        "                        print(f'\\n✕ Usuário com ID {id} não foi encontrado. Insira o(s) ID(s) novamente.', end='\\n\\n')\n",
        "                        token = False\n",
        "                    else:\n",
        "                        excluirUsuario(id, planilha=cadastros)\n",
        "\n",
        "                if token: break\n",
        "\n",
        "        elif userInput == '4':\n",
        "            print('\\n>> Você escolheu: 4 - Atualizar usuário', end='\\n\\n')\n",
        "\n",
        "            while True:\n",
        "\n",
        "                userInput = tuple(input('ID do usuário a ser atualizado (se for mais de um, separe por espaço): ').split())\n",
        "\n",
        "                token = True\n",
        "                for id in userInput:\n",
        "                    if not checkUsuario(id, planilha=cadastros):\n",
        "                        print(f'\\n✕ Usuário com ID {id} não foi encontrado. Insira o(s) ID(s) novamente.', end='\\n\\n')\n",
        "                        token = False\n",
        "                    else:\n",
        "                        editUsuario(id, planilha=cadastros)\n",
        "\n",
        "                if token: break\n",
        "\n",
        "        elif userInput == '5':\n",
        "            print('\\nVocê escolheu: 5 - Recuperar senha de usuário', end='\\n\\n')\n",
        "\n",
        "            while True:\n",
        "\n",
        "                userInput = tuple(input('ID do usuário para recuperar a senha (se for mais de um, separe por espaço): ').split())\n",
        "\n",
        "                token = True\n",
        "                for id in userInput:\n",
        "                    if not checkUsuario(id, planilha=cadastros):\n",
        "                        print(f'\\n✕ Usuário com ID {id} não foi encontrado. Insira o(s) ID(s) novamente.', end='\\n\\n')\n",
        "                        token = False\n",
        "                    else:\n",
        "                        result = recuperarSenha(id, planilha=cadastros)\n",
        "                        print(result, end='\\n\\n')\n",
        "\n",
        "                if token: break\n",
        "\n",
        "        elif userInput == '6':\n",
        "            print('\\nVocê escolheu: 6 - Informações de um usuário', end='\\n\\n')\n",
        "\n",
        "            while True:\n",
        "\n",
        "                userInput = tuple(input('ID do usuário a ser visualizado (se for mais de um, separe por espaço): ').split())\n",
        "\n",
        "                token = True\n",
        "                for id in userInput:\n",
        "                    if not checkUsuario(id, planilha=cadastros):\n",
        "                        print(f'\\n✕ Usuário com ID {id} não foi encontrado. Insira o(s) ID(s) novamente.', end = '\\n\\n')\n",
        "                        token = False\n",
        "                    else:\n",
        "                        viewUsuario(id, planilha=cadastros)\n",
        "\n",
        "                if token: break\n",
        "\n",
        "        elif userInput == '7':\n",
        "            print('\\n>> Você escolheu: 7 - Informações de todos os usuários')\n",
        "\n",
        "            viewAllUsuarios(planilha=cadastros)\n",
        "\n",
        "        elif userInput == '8':\n",
        "            print('\\n>> Você escolheu: 8 - Exportar informações de usuários em CSV')\n",
        "\n",
        "            exportCSV(planilha=cadastros)\n",
        "\n",
        "        else:\n",
        "            print('\\n✕ Esta não é uma opção válida. Tente novamente.', end='\\n\\n')\n",
        "\n",
        "        lerSalvarArquivo(nomeArquivo, ler=False, planilha=cadastros)"
      ],
      "metadata": {
        "id": "AyqbIiJ49qKK"
      },
      "execution_count": 20,
      "outputs": []
    },
    {
      "cell_type": "code",
      "source": [
        "main()"
      ],
      "metadata": {
        "id": "a6U4qtU9Aooy",
        "colab": {
          "base_uri": "https://localhost:8080/",
          "height": 1000
        },
        "outputId": "94631d5e-9305-4e86-d91f-e858b39cd12d"
      },
      "execution_count": 21,
      "outputs": [
        {
          "output_type": "stream",
          "name": "stdout",
          "text": [
            "-------------- Sistema de Cadastro de Pessoas --------------\n",
            "\n",
            "\n",
            "Digite o caminho do arquivo JSON no Google Drive (ex: /content/drive/MyDrive/exemplo.json): /content/drive/MyDrive/projetoModuloII.json\n",
            "Escolha uma das ações a seguir:\n",
            "\n",
            "1 - Inserir usuário\n",
            "2 - Inserir usuários em Lote\n",
            "3 - Excluir usuário\n",
            "4 - Atualizar usuário\n",
            "5 - Recuperar senha de usuário\n",
            "6 - Informações de um usuário\n",
            "7 - Informações de todos os usuários\n",
            "8 - Exportar informações de usuários em CSV\n",
            "9 - Sair\n",
            "\n",
            "Digite o número da ação: 1\n",
            "\n",
            ">> Você escolheu: 1 - Inserir usuário\n",
            "\n",
            "Nome do usuário: Leticia\n",
            "Telefone do usuário: 8756\n",
            "Endereço do usuário: Rua Random \n",
            ">> A senha deve conter o mínimo de 8 caracteres (mínimo de 2 números e 1 letra maiúscula).\n",
            "Senha do usuário: 34Testeteste\n",
            "\n",
            "✓ Usuário adicionado com sucesso.\n",
            "\n",
            "Escolha uma das ações a seguir:\n",
            "\n",
            "1 - Inserir usuário\n",
            "2 - Inserir usuários em Lote\n",
            "3 - Excluir usuário\n",
            "4 - Atualizar usuário\n",
            "5 - Recuperar senha de usuário\n",
            "6 - Informações de um usuário\n",
            "7 - Informações de todos os usuários\n",
            "8 - Exportar informações de usuários em CSV\n",
            "9 - Sair\n",
            "\n",
            "Digite o número da ação: 7\n",
            "\n",
            ">> Você escolheu: 7 - Informações de todos os usuários\n",
            "\n",
            "Digite a senha do usuário 9999: ifood\n",
            "\n",
            "ID: 400\n",
            "Status: True\n",
            "Nome: Henrique\n",
            "Telefone: 78774123\n",
            "Endereço: Rua do Python\n",
            "Senha: Pandas\n",
            "\n",
            "ID: 4200\n",
            "Status: True\n",
            "Nome: Sebastião\n",
            "Telefone: 23546312\n",
            "Endereço: Modulo II\n",
            "Senha: LPII\n",
            "\n",
            "ID: 8158\n",
            "Status: True\n",
            "Nome: João\n",
            "Telefone: 45786327\n",
            "Endereço: Av. Faria Lima\n",
            "Senha: 123456\n",
            "\n",
            "ID: 9999\n",
            "Status: True\n",
            "Nome: admin\n",
            "Telefone: 12345678\n",
            "Endereço: Ada Tech\n",
            "Senha: ifood\n",
            "\n",
            "ID: 9200\n",
            "Status: True\n",
            "Nome: Leticia\n",
            "Telefone: 8756\n",
            "Endereço: Rua Random \n",
            "Senha: 34Testeteste\n",
            "\n",
            "Escolha uma das ações a seguir:\n",
            "\n",
            "1 - Inserir usuário\n",
            "2 - Inserir usuários em Lote\n",
            "3 - Excluir usuário\n",
            "4 - Atualizar usuário\n",
            "5 - Recuperar senha de usuário\n",
            "6 - Informações de um usuário\n",
            "7 - Informações de todos os usuários\n",
            "8 - Exportar informações de usuários em CSV\n",
            "9 - Sair\n",
            "\n",
            "Digite o número da ação: 8\n",
            "\n",
            ">> Você escolheu: 8 - Exportar informações de usuários em CSV\n",
            "Informe o endereço do Drive em que deseja salvar o arquivo (ex: /content/drive/MyDrive): /content/drive/MyDrive/Teste_Projeto\n",
            "Informe o nome do arquivo: projetoModuloII_alterado.csv\n",
            "\n",
            "✓ Arquivo exportado com sucesso para o Drive.\n",
            "\n",
            "Escolha uma das ações a seguir:\n",
            "\n",
            "1 - Inserir usuário\n",
            "2 - Inserir usuários em Lote\n",
            "3 - Excluir usuário\n",
            "4 - Atualizar usuário\n",
            "5 - Recuperar senha de usuário\n",
            "6 - Informações de um usuário\n",
            "7 - Informações de todos os usuários\n",
            "8 - Exportar informações de usuários em CSV\n",
            "9 - Sair\n",
            "\n"
          ]
        },
        {
          "output_type": "error",
          "ename": "KeyboardInterrupt",
          "evalue": "ignored",
          "traceback": [
            "\u001b[0;31m---------------------------------------------------------------------------\u001b[0m",
            "\u001b[0;31mKeyboardInterrupt\u001b[0m                         Traceback (most recent call last)",
            "\u001b[0;32m<ipython-input-21-263240bbee7e>\u001b[0m in \u001b[0;36m<cell line: 1>\u001b[0;34m()\u001b[0m\n\u001b[0;32m----> 1\u001b[0;31m \u001b[0mmain\u001b[0m\u001b[0;34m(\u001b[0m\u001b[0;34m)\u001b[0m\u001b[0;34m\u001b[0m\u001b[0;34m\u001b[0m\u001b[0m\n\u001b[0m",
            "\u001b[0;32m<ipython-input-20-bc78de342b5e>\u001b[0m in \u001b[0;36mmain\u001b[0;34m()\u001b[0m\n\u001b[1;32m     20\u001b[0m         \u001b[0mprint\u001b[0m\u001b[0;34m(\u001b[0m\u001b[0;34m'9 - Sair\\n'\u001b[0m\u001b[0;34m)\u001b[0m\u001b[0;34m\u001b[0m\u001b[0;34m\u001b[0m\u001b[0m\n\u001b[1;32m     21\u001b[0m \u001b[0;34m\u001b[0m\u001b[0m\n\u001b[0;32m---> 22\u001b[0;31m         \u001b[0muserInput\u001b[0m \u001b[0;34m=\u001b[0m \u001b[0minput\u001b[0m\u001b[0;34m(\u001b[0m\u001b[0;34m'Digite o número da ação: '\u001b[0m\u001b[0;34m)\u001b[0m\u001b[0;34m\u001b[0m\u001b[0;34m\u001b[0m\u001b[0m\n\u001b[0m\u001b[1;32m     23\u001b[0m \u001b[0;34m\u001b[0m\u001b[0m\n\u001b[1;32m     24\u001b[0m         \u001b[0;32mif\u001b[0m \u001b[0muserInput\u001b[0m \u001b[0;34m==\u001b[0m \u001b[0;34m'9'\u001b[0m\u001b[0;34m:\u001b[0m\u001b[0;34m\u001b[0m\u001b[0;34m\u001b[0m\u001b[0m\n",
            "\u001b[0;32m/usr/local/lib/python3.10/dist-packages/ipykernel/kernelbase.py\u001b[0m in \u001b[0;36mraw_input\u001b[0;34m(self, prompt)\u001b[0m\n\u001b[1;32m    849\u001b[0m                 \u001b[0;34m\"raw_input was called, but this frontend does not support input requests.\"\u001b[0m\u001b[0;34m\u001b[0m\u001b[0;34m\u001b[0m\u001b[0m\n\u001b[1;32m    850\u001b[0m             )\n\u001b[0;32m--> 851\u001b[0;31m         return self._input_request(str(prompt),\n\u001b[0m\u001b[1;32m    852\u001b[0m             \u001b[0mself\u001b[0m\u001b[0;34m.\u001b[0m\u001b[0m_parent_ident\u001b[0m\u001b[0;34m,\u001b[0m\u001b[0;34m\u001b[0m\u001b[0;34m\u001b[0m\u001b[0m\n\u001b[1;32m    853\u001b[0m             \u001b[0mself\u001b[0m\u001b[0;34m.\u001b[0m\u001b[0m_parent_header\u001b[0m\u001b[0;34m,\u001b[0m\u001b[0;34m\u001b[0m\u001b[0;34m\u001b[0m\u001b[0m\n",
            "\u001b[0;32m/usr/local/lib/python3.10/dist-packages/ipykernel/kernelbase.py\u001b[0m in \u001b[0;36m_input_request\u001b[0;34m(self, prompt, ident, parent, password)\u001b[0m\n\u001b[1;32m    893\u001b[0m             \u001b[0;32mexcept\u001b[0m \u001b[0mKeyboardInterrupt\u001b[0m\u001b[0;34m:\u001b[0m\u001b[0;34m\u001b[0m\u001b[0;34m\u001b[0m\u001b[0m\n\u001b[1;32m    894\u001b[0m                 \u001b[0;31m# re-raise KeyboardInterrupt, to truncate traceback\u001b[0m\u001b[0;34m\u001b[0m\u001b[0;34m\u001b[0m\u001b[0m\n\u001b[0;32m--> 895\u001b[0;31m                 \u001b[0;32mraise\u001b[0m \u001b[0mKeyboardInterrupt\u001b[0m\u001b[0;34m(\u001b[0m\u001b[0;34m\"Interrupted by user\"\u001b[0m\u001b[0;34m)\u001b[0m \u001b[0;32mfrom\u001b[0m \u001b[0;32mNone\u001b[0m\u001b[0;34m\u001b[0m\u001b[0;34m\u001b[0m\u001b[0m\n\u001b[0m\u001b[1;32m    896\u001b[0m             \u001b[0;32mexcept\u001b[0m \u001b[0mException\u001b[0m \u001b[0;32mas\u001b[0m \u001b[0me\u001b[0m\u001b[0;34m:\u001b[0m\u001b[0;34m\u001b[0m\u001b[0;34m\u001b[0m\u001b[0m\n\u001b[1;32m    897\u001b[0m                 \u001b[0mself\u001b[0m\u001b[0;34m.\u001b[0m\u001b[0mlog\u001b[0m\u001b[0;34m.\u001b[0m\u001b[0mwarning\u001b[0m\u001b[0;34m(\u001b[0m\u001b[0;34m\"Invalid Message:\"\u001b[0m\u001b[0;34m,\u001b[0m \u001b[0mexc_info\u001b[0m\u001b[0;34m=\u001b[0m\u001b[0;32mTrue\u001b[0m\u001b[0;34m)\u001b[0m\u001b[0;34m\u001b[0m\u001b[0;34m\u001b[0m\u001b[0m\n",
            "\u001b[0;31mKeyboardInterrupt\u001b[0m: Interrupted by user"
          ]
        }
      ]
    }
  ]
}